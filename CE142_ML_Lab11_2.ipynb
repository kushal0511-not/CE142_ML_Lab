{
  "nbformat": 4,
  "nbformat_minor": 0,
  "metadata": {
    "colab": {
      "name": "AnsOfLab11_SVM_On_MNIST.ipynb",
      "provenance": [],
      "collapsed_sections": []
    },
    "kernelspec": {
      "name": "python3",
      "display_name": "Python 3"
    },
    "language_info": {
      "name": "python"
    }
  },
  "cells": [
    {
      "cell_type": "markdown",
      "source": [
        "##Try SVM classifier on MNIST dataset, compare the performance of linear, polynomial and RBF kernels."
      ],
      "metadata": {
        "id": "Cv1WCsvGK8hQ"
      }
    },
    {
      "cell_type": "code",
      "execution_count": null,
      "metadata": {
        "id": "9fHYPZDvK2-o"
      },
      "outputs": [],
      "source": [
        "import sys, os\n",
        "import matplotlib.pyplot as plt\n",
        "from sklearn import svm\n",
        "from sklearn.model_selection import train_test_split\n",
        "import numpy as np"
      ]
    },
    {
      "cell_type": "code",
      "source": [
        "from sklearn.datasets import load_digits\n",
        "\n",
        "digits = load_digits()\n",
        "\n",
        "X_train, X_test, y_train, y_test = train_test_split(digits.data, digits.target, test_size = 0.3, train_size = 0.2 ,random_state = 9)    #random_state=roll_number"
      ],
      "metadata": {
        "id": "IcRQAqYqLOmF"
      },
      "execution_count": null,
      "outputs": []
    },
    {
      "cell_type": "markdown",
      "source": [
        "Linear Model"
      ],
      "metadata": {
        "id": "Koyai-CULWYj"
      }
    },
    {
      "cell_type": "code",
      "source": [
        "linear_clf = svm.SVC(kernel='linear')\n",
        "linear_clf.fit(X_train, y_train)\n",
        "\n",
        "# predict\n",
        "y_pred = linear_clf.predict(X_test)"
      ],
      "metadata": {
        "id": "mYN1YpcMLYcI"
      },
      "execution_count": null,
      "outputs": []
    },
    {
      "cell_type": "code",
      "source": [
        "from sklearn import metrics\n",
        "\n",
        "# accuracy\n",
        "print(\"accuracy:\", metrics.accuracy_score(y_true=y_test, y_pred=y_pred)*100,\"%\")"
      ],
      "metadata": {
        "colab": {
          "base_uri": "https://localhost:8080/"
        },
        "id": "lgXGNgpML3EP",
        "outputId": "9c54cf9e-2fb4-49b4-bb50-30d3a81a0148"
      },
      "execution_count": null,
      "outputs": [
        {
          "output_type": "stream",
          "name": "stdout",
          "text": [
            "accuracy: 95.55555555555556 %\n"
          ]
        }
      ]
    },
    {
      "cell_type": "markdown",
      "source": [
        "Polynomial Model"
      ],
      "metadata": {
        "id": "6dK6jVVIMIfR"
      }
    },
    {
      "cell_type": "code",
      "source": [
        "poly_clf = svm.SVC(kernel='poly')\n",
        "poly_clf.fit(X_train, y_train)\n",
        "\n",
        "# predict\n",
        "y_pred = poly_clf.predict(X_test)"
      ],
      "metadata": {
        "id": "yNk6B0UHNTAb"
      },
      "execution_count": null,
      "outputs": []
    },
    {
      "cell_type": "code",
      "source": [
        "# accuracy\n",
        "print(\"accuracy:\", metrics.accuracy_score(y_true=y_test, y_pred=y_pred)*100, \"%\")"
      ],
      "metadata": {
        "colab": {
          "base_uri": "https://localhost:8080/"
        },
        "id": "p_wYAbXwNX9f",
        "outputId": "9e99f8b0-2b47-464b-f046-f37e1526dd9d"
      },
      "execution_count": null,
      "outputs": [
        {
          "output_type": "stream",
          "name": "stdout",
          "text": [
            "accuracy: 95.74074074074073 %\n"
          ]
        }
      ]
    },
    {
      "cell_type": "markdown",
      "source": [
        "RBF Model"
      ],
      "metadata": {
        "id": "Dwv4PKE0NjXo"
      }
    },
    {
      "cell_type": "code",
      "source": [
        "rbf_clf = svm.SVC(kernel='rbf')\n",
        "rbf_clf.fit(X_train, y_train)\n",
        "\n",
        "# predict\n",
        "y_pred = rbf_clf.predict(X_test)"
      ],
      "metadata": {
        "id": "aoHmdqiuNkkS"
      },
      "execution_count": null,
      "outputs": []
    },
    {
      "cell_type": "code",
      "source": [
        "# accuracy\n",
        "print(\"accuracy:\", metrics.accuracy_score(y_true=y_test, y_pred=y_pred)*100, \"%\")"
      ],
      "metadata": {
        "colab": {
          "base_uri": "https://localhost:8080/"
        },
        "id": "En_q0G_bNsVW",
        "outputId": "42bc0927-104f-4dd7-d803-36f4cb84f5e5"
      },
      "execution_count": null,
      "outputs": [
        {
          "output_type": "stream",
          "name": "stdout",
          "text": [
            "accuracy: 95.55555555555556 %\n"
          ]
        }
      ]
    }
  ]
}